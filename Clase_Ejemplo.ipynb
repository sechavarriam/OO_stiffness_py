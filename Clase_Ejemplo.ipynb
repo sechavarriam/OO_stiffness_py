{
 "cells": [
  {
   "cell_type": "code",
   "execution_count": 1,
   "metadata": {},
   "outputs": [],
   "source": [
    "from ast import Pass\n",
    "import math\n",
    "import copy\n",
    "from operator import index\n",
    "import numpy as np\n",
    "import matplotlib.pyplot as plt"
   ]
  },
  {
   "cell_type": "markdown",
   "metadata": {},
   "source": [
    "### Clases"
   ]
  },
  {
   "cell_type": "markdown",
   "metadata": {},
   "source": [
    "##### Clase Nodo"
   ]
  },
  {
   "cell_type": "code",
   "execution_count": 2,
   "metadata": {},
   "outputs": [],
   "source": [
    "class Node:\n",
    "\n",
    "    indice = 1 \n",
    "\n",
    "    def __init__(self, coord, restricciones=[0,0,0]):\n",
    "        \n",
    "        self.indice = Node.indice\n",
    "        self.coord = coord\n",
    "        self.restricciones = restricciones\n",
    "        self.n_DoF = 0. \n",
    "        self.u = [] \n",
    "\n",
    "        Node.indice += 1 \n",
    "\n",
    "    def __str__(self): \n",
    "        return \"(\"+str(self.x1)+\",\"+str(self.x2)+\")\" "
   ]
  },
  {
   "cell_type": "code",
   "execution_count": 3,
   "metadata": {},
   "outputs": [],
   "source": [
    "n1 = Node([1, 0 ],[1,1,1])\n",
    "n2 = Node([3, 0 ],[1,0,0])\n",
    "n3 = Node([6, 0 ],[1,1,1])\n",
    "n4 = Node([1, 9 ],[0,0,0])\n",
    "n5 = Node([3, 9 ],[0,0,0])\n",
    "n6 = Node([6, 9 ],[0,0,0])\n",
    "n7 = Node([3, 15],[0,0,0])\n",
    "n8 = Node([6, 15],[0,0,0])"
   ]
  },
  {
   "cell_type": "markdown",
   "metadata": {},
   "source": [
    "##### Clase Elemento"
   ]
  },
  {
   "cell_type": "code",
   "execution_count": 4,
   "metadata": {},
   "outputs": [],
   "source": [
    "class MaterialIsotropicoLineal:\n",
    "    def __init__(self, E):\n",
    "        self.E = E\n",
    "         \n",
    "class Elemento:\n",
    "    indice = 1\n",
    "    def __init__(self, nodes):\n",
    "        self.indice = Elemento.indice\n",
    "        self.nodes = nodes\n",
    "        Elemento.indice += 1"
   ]
  },
  {
   "cell_type": "markdown",
   "metadata": {},
   "source": [
    "##### Clase Elemento_Portico"
   ]
  },
  {
   "cell_type": "code",
   "execution_count": 5,
   "metadata": {},
   "outputs": [],
   "source": [
    "class ElementoPortico(Elemento, MaterialIsotropicoLineal):\n",
    "\n",
    "    def __init__(self, nodes, E, A, I):\n",
    "\n",
    "        self.L = 0 \n",
    "        self.A = A\n",
    "        self.I = I\n",
    "        self.K = np.array(np.zeros([6,6]))\n",
    "\n",
    "        Elemento.__init__(self, nodes)\n",
    "        MaterialIsotropicoLineal.__init__(self,E)\n",
    "        \n",
    "        if self.nodes[0].n_DoF == 0: self.nodes[0].n_DoF = 3\n",
    "        if self.nodes[1].n_DoF == 0: self.nodes[1].n_DoF = 3\n",
    "\n",
    "        self.calcularLongitud()\n",
    "        self.K_porticoGlobal() \n",
    "\n",
    "    # Cálculo de la longitud en términos de las coordenadas\n",
    "    \n",
    "    def calcularLongitud(self):\n",
    "        \n",
    "        ni = self.nodes[0]\n",
    "        nj = self.nodes[1]\n",
    "\n",
    "        self.L = math.sqrt((nj.coord[0] - ni.coord[0])**2 + (nj.coord[1] - ni.coord[1])**2)\n",
    "        self.theta = math.atan2((nj.coord[1] - ni.coord[1]),(nj.coord[0] - ni.coord[0]))\n",
    "\n",
    "    # Cálculo de la matriz de rigidez del elemento en coordenadas globales.\n",
    "    \n",
    "    def K_porticoGlobal(self):\n",
    "        \n",
    "        c = math.cos(self.theta) \n",
    "        s = math.sin(self.theta) \n",
    "\n",
    "        T = np.zeros([6,6])\n",
    "        T = np.matrix(T)\n",
    "        \n",
    "        T[0,0] = c\n",
    "        T[0,1] = s\n",
    "        T[1,0] = -s\n",
    "        T[1,1] = c\n",
    "        T[2,2] = 1\n",
    "        T[3,3] = c\n",
    "        T[3,4] = s\n",
    "        T[4,3] = -s\n",
    "        T[4,4] = c\n",
    "        T[5,5] = 1\n",
    "\n",
    "        EAL = self.E*self.A/self.L\n",
    "        EI= self.E*self.I\n",
    "\n",
    "        l = self.L\n",
    "\n",
    "        k = np.zeros([6,6])\n",
    "        k = np.matrix(k)\n",
    "\n",
    "        k[0,0] =  EAL\n",
    "        k[0,3] = -EAL\n",
    "        k[1,1] =  12 * EI/l**3\n",
    "        k[1,2] =   6 * EI/l**2\n",
    "        k[1,4] = -12 * EI/l**3\n",
    "        k[1,5] =   6 * EI/l**2\n",
    "        k[2,1] =   6 * EI/l**2\n",
    "        k[2,2] =   4 * EI/l\n",
    "        k[2,4] = - 6 * EI/l**2\n",
    "        k[2,5] =   2 * EI/l\n",
    "        k[3,0] = -EAL\n",
    "        k[3,3] =  EAL\n",
    "        k[4,1] = -12*EI/l**3\n",
    "        k[4,2] = - 6*EI/l**2\n",
    "        k[4,4] =  12*EI/l**3\n",
    "        k[4,5] = - 6*EI/l**2\n",
    "        k[5,1] =   6*EI/l**2\n",
    "        k[5,2] =   2*EI/l\n",
    "        k[5,4] = - 6*EI/l**2\n",
    "        k[5,5] =   4*EI/l \n",
    "\n",
    "        self.K = np.transpose(T) * k * T\n",
    "\n",
    "    def plot(self,ax):\n",
    "        \n",
    "        ni = self.nodes[0]\n",
    "        nj = self.nodes[1]\n",
    "\n",
    "        # Extracción de coordenadas nodo inicial\n",
    "        xi = ni.coord[0]\n",
    "        yi = ni.coord[1]\n",
    "\n",
    "        # Extracción de coordenadas nodo final\n",
    "        xj = nj.coord[0]\n",
    "        yj = nj.coord[1]\n",
    "\n",
    "        # Traza en el eje \"ax\" la línea del elemento. Se debe pasar el eje.\n",
    "        ax.plot([xi, xj], [yi, yj], 'k-o') "
   ]
  },
  {
   "cell_type": "code",
   "execution_count": 6,
   "metadata": {},
   "outputs": [],
   "source": [
    "E=2e8\n",
    "A=0.2*0.5\n",
    "I=0.2*(0.5**3)/12\n",
    "\n",
    "e1 = ElementoPortico([n1,n4],E,A,I)\n",
    "e2 = ElementoPortico([n2,n5],E,A,I)\n",
    "e3 = ElementoPortico([n3,n5],E,A,I)\n",
    "e4 = ElementoPortico([n3,n6],E,A,I)\n",
    "e5 = ElementoPortico([n5,n7],E,A,I)\n",
    "e6 = ElementoPortico([n6,n8],E,A,I)\n",
    "e7 = ElementoPortico([n4,n5],E,A,I)\n",
    "e8 = ElementoPortico([n5,n6],E,A,I)\n",
    "e9 = ElementoPortico([n7,n8],E,A,I)"
   ]
  },
  {
   "cell_type": "code",
   "execution_count": 7,
   "metadata": {},
   "outputs": [
    {
     "data": {
      "image/png": "[encoded data removed]",
      "text/plain": [
       "<Figure size 720x360 with 1 Axes>"
      ]
     },
     "metadata": {
      "needs_background": "light"
     },
     "output_type": "display_data"
    }
   ],
   "source": [
    "fig = plt.figure(figsize=(10,5))\n",
    "\n",
    "ax = fig.add_subplot(111)\n",
    "\n",
    "e1.plot(ax)\n",
    "e2.plot(ax)\n",
    "e3.plot(ax)\n",
    "e4.plot(ax)\n",
    "e5.plot(ax)\n",
    "e6.plot(ax)\n",
    "e7.plot(ax)\n",
    "e8.plot(ax)\n",
    "e9.plot(ax)"
   ]
  },
  {
   "cell_type": "markdown",
   "metadata": {},
   "source": [
    "##### Clase Estructura"
   ]
  },
  {
   "cell_type": "code",
   "execution_count": 8,
   "metadata": {},
   "outputs": [],
   "source": [
    "class Structure:\n",
    "\n",
    "    def __init__(self, nodos, elementos):\n",
    "        \n",
    "        self.nodes = nodos\n",
    "        self.elementos = elementos\n",
    "\n",
    "        n_DoF = 3*len(nodos) \n",
    "\n",
    "        self.n_DoF = n_DoF\n",
    "\n",
    "        self.K    = np.array(np.zeros([n_DoF, n_DoF]))\n",
    "        self.resV = np.array(np.zeros([n_DoF,1])) # Vector de restricciones.\n",
    "\n",
    "        self.extraerRestricciones()\n",
    "        self.ensambleK()\n",
    "\n",
    "    def ensambleK(self):\n",
    "        \n",
    "        for elem in self.elementos: \n",
    "            \n",
    "            ni = elem.nodes[0].indice - 1 # índice de nodo inicial\n",
    "            nj = elem.nodes[1].indice - 1 # Índice de nodo final\n",
    "\n",
    "            inicialI = 3*ni\n",
    "            finalI = 3*ni + 2\n",
    "\n",
    "            inicialJ = 3*nj\n",
    "            finalJ = 3*nj + 2\n",
    "\n",
    "            self.K[inicialI:finalI+1,inicialI:finalI+1] += elem.K[0:3,0:3]\n",
    "            self.K[inicialJ:finalJ+1,inicialJ:finalJ+1] += elem.K[3:6,3:6]\n",
    "\n",
    "            self.K[inicialI:finalI+1,inicialJ:finalJ+1] += elem.K[0:3,3:6]\n",
    "            self.K[inicialJ:finalJ+1,inicialI:finalI+1] += elem.K[3:6,0:3]\n",
    "\n",
    "    def extraerRestricciones(self):\n",
    "        \n",
    "        resMat = [] \n",
    "\n",
    "        for n in self.nodes:\n",
    "            resMat.append(n.restricciones)\n",
    "\n",
    "        resMat =np.array(resMat)\n",
    "\n",
    "        self.resV = resMat.flatten() # Convierte matriz en lista.\n",
    "\n",
    "        self.rest_index = np.where(self.resV != 0)[0] \n",
    "        self.free_index = np.where(self.resV == 0)[0] \n",
    "\n",
    "    def extraer_subK(self):\n",
    "\n",
    "        Knn = [[self.K[i][j] for j in self.free_index] for i in self.free_index]\n",
    "        Kaa = [[self.K[i][j] for j in self.rest_index] for i in self.rest_index]\n",
    "        Kan = [[self.K[i][j] for j in self.rest_index] for i in self.free_index]\n",
    "        Kna = [[self.K[i][j] for j in self.free_index] for i in self.rest_index]\n",
    "\n",
    "        self.Knn = np.array(Knn)\n",
    "        self.Kaa = np.array(Kaa)\n",
    "        self.Kan = np.array(Kan)\n",
    "        self.Kna = np.array(Kna) \n",
    "\n",
    "    def plot(self,ax):\n",
    "        \n",
    "        for e in self.elementos:\n",
    "            e.plot(ax)\n",
    "\n",
    "#         ax.set_aspect('equal', 'box')"
   ]
  },
  {
   "cell_type": "code",
   "execution_count": 9,
   "metadata": {},
   "outputs": [],
   "source": [
    "s = Structure([n1,n2,n3,n4,n5,n6,n7,n8],[e1,e2,e3,e4,e5,e6,e7,e8,e9])"
   ]
  },
  {
   "cell_type": "code",
   "execution_count": 10,
   "metadata": {},
   "outputs": [
    {
     "data": {
      "image/png": "[encoded data removed]",
      "text/plain": [
       "<Figure size 720x360 with 1 Axes>"
      ]
     },
     "metadata": {
      "needs_background": "light"
     },
     "output_type": "display_data"
    }
   ],
   "source": [
    "fig1 = plt.figure(figsize=(10,5))\n",
    "\n",
    "ax1 = fig1.add_subplot(111)\n",
    "\n",
    "s.plot(ax1)"
   ]
  },
  {
   "cell_type": "markdown",
   "metadata": {},
   "source": [
    "##### Clase Modelo (Static)"
   ]
  },
  {
   "cell_type": "code",
   "execution_count": 11,
   "metadata": {},
   "outputs": [],
   "source": [
    "class Model:\n",
    "    def __init__(self ,struct):\n",
    "        \n",
    "        self.S = struct\n",
    "        self.F = np.array(np.zeros([self.S.n_DoF])) #Vector de fuerzas.\n",
    "        self.u = np.array(np.zeros([self.S.n_DoF])) #Vector de desplazamientos \n",
    "\n",
    "    def add_node_displacement(self, node_index, displacement): \n",
    "\n",
    "        pos_1 = 3*(node_index-1)\n",
    "        pos_2 = 3*(node_index-1)+2\n",
    "\n",
    "        self.F[pos_1:pos_2+1] += displacement[0:3]\n",
    "\n",
    "\n",
    "    def add_node_force(self, node_index, force): \n",
    "\n",
    "        pos_1 = 3*(node_index-1)\n",
    "        pos_2 = 3*(node_index-1)+2\n",
    "\n",
    "        self.F[pos_1:pos_2+1] += force[0:3]\n",
    "\n",
    "    def extraer_Fn(self): \n",
    "        self.Fn = [self.F[index] for index in self.S.free_index]\n",
    "\n",
    "    def extraer_ua(self): \n",
    "        self.ua = [self.u[index] for index in self.S.rest_index]\n",
    "\n",
    "\n",
    "    def set_displacements(self): \n",
    "\n",
    "        for i, index in enumerate(self.S.free_index):\n",
    "            self.u[index] = self.un[i]\n",
    "\n",
    "        for i, index in enumerate(self.S.rest_index):\n",
    "            self.u[index] = self.ua[i]\n",
    "\n",
    "        for i, node in enumerate(self.S.nodes):\n",
    "\n",
    "            for j in range(node.n_DoF):\n",
    "                node.u.append(self.u[3*i+j])\n",
    "\n",
    "    def solve(self):        \n",
    "        self.extraer_Fn()\n",
    "        self.extraer_ua()\n",
    "        self.S.extraer_subK() # Extrae matrices Knn de la estructura.\n",
    "\n",
    "        # Cálculo de los desplazamientos.\n",
    "        self.un = np.linalg.solve(self.S.Knn , self.Fn - np.matmul(self.S.Kan, self.ua))\n",
    "\n",
    "        # Cálculo de las reacciones.\n",
    "        self.Fa = np.matmul(self.S.Kna, self.un) + np.matmul(self.S.Kaa, self.ua)\n",
    "\n",
    "        # Ensamble del vector total de desplazamientos.\n",
    "        self.set_displacements()\n",
    "\n",
    "\n",
    "    def plot_deformed(self,ax,ampFactor): \n",
    "        S_updated = copy.deepcopy(self.S)  #Create a new structure to modify his nodes. (copy)\n",
    "\n",
    "        for n in S_updated.nodes:\n",
    "            n.coord[0] += ampFactor*n.u[0] # Se aplifican los desplazamientos para que sean visibles.\n",
    "            n.coord[1] += ampFactor*n.u[1] \n",
    "            \n",
    "        self.S.plot(ax)\n",
    "        S_updated.plot(ax)"
   ]
  },
  {
   "cell_type": "code",
   "execution_count": 12,
   "metadata": {},
   "outputs": [],
   "source": [
    "m = Model(s)"
   ]
  },
  {
   "cell_type": "code",
   "execution_count": 13,
   "metadata": {},
   "outputs": [],
   "source": [
    "m.add_node_force(5,[50, 0, 0])\n",
    "m.solve()"
   ]
  },
  {
   "cell_type": "code",
   "execution_count": 14,
   "metadata": {},
   "outputs": [
    {
     "data": {
      "image/png": "[encoded data removed]",
      "text/plain": [
       "<Figure size 720x360 with 1 Axes>"
      ]
     },
     "metadata": {
      "needs_background": "light"
     },
     "output_type": "display_data"
    }
   ],
   "source": [
    "fig2 = plt.figure(figsize=(10,5))\n",
    "\n",
    "ax2 = fig2.add_subplot(111)\n",
    "\n",
    "m.plot_deformed(ax2,100)\n",
    "s.plot(ax2)"
   ]
  },
  {
   "cell_type": "code",
   "execution_count": null,
   "metadata": {},
   "outputs": [],
   "source": []
  },
  {
   "cell_type": "code",
   "execution_count": null,
   "metadata": {},
   "outputs": [],
   "source": []
  },
  {
   "cell_type": "code",
   "execution_count": null,
   "metadata": {},
   "outputs": [],
   "source": []
  }
 ],
 "metadata": {
  "kernelspec": {
   "display_name": "Python 3",
   "language": "python",
   "name": "python3"
  },
  "language_info": {
   "codemirror_mode": {
    "name": "ipython",
    "version": 2
   },
   "file_extension": ".py",
   "mimetype": "text/x-python",
   "name": "python",
   "nbconvert_exporter": "python",
   "pygments_lexer": "ipython2",
   "version": "2.7.17"
  }
 },
 "nbformat": 4,
 "nbformat_minor": 2
}
