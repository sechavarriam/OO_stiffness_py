{
 "cells": [
  {
   "cell_type": "markdown",
   "metadata": {},
   "source": [
    "##### Librerías"
   ]
  },
  {
   "cell_type": "code",
   "execution_count": 4,
   "metadata": {},
   "outputs": [],
   "source": [
    "import numpy as np\n",
    "import matplotlib.pyplot as plt\n",
    "import os\n",
    "import sympy\n",
    "import pandas as pd\n",
    "from Porticos_2D_V2 import matriz_local\n",
    "from Porticos_2D_V2 import matriz_T\n",
    "\n",
    "from IPython.display import Image\n",
    "\n",
    "# Importación\n",
    "# from sympy import init_session\n",
    "# init_session(use_latex=True)"
   ]
  },
  {
   "cell_type": "markdown",
   "metadata": {},
   "source": [
    "##### Importar imagen del problema a resolver"
   ]
  },
  {
   "cell_type": "code",
   "execution_count": 2,
   "metadata": {
    "scrolled": false
   },
   "outputs": [
    {
     "data": {
      "image/png": "[encoded data removed]",
      "text/plain": [
       "<IPython.core.display.Image object>"
      ]
     },
     "execution_count": 2,
     "metadata": {},
     "output_type": "execute_result"
    }
   ],
   "source": [
    "Image('Ejemplo_03.png')"
   ]
  },
  {
   "cell_type": "markdown",
   "metadata": {},
   "source": [
    "##### Lectura de la geometría del Problema"
   ]
  },
  {
   "cell_type": "code",
   "execution_count": 3,
   "metadata": {
    "scrolled": true
   },
   "outputs": [
    {
     "data": {
      "text/html": [
       "<div>\n",
       "<style scoped>\n",
       "    .dataframe tbody tr th:only-of-type {\n",
       "        vertical-align: middle;\n",
       "    }\n",
       "\n",
       "    .dataframe tbody tr th {\n",
       "        vertical-align: top;\n",
       "    }\n",
       "\n",
       "    .dataframe thead th {\n",
       "        text-align: right;\n",
       "    }\n",
       "</style>\n",
       "<table border=\"1\" class=\"dataframe\">\n",
       "  <thead>\n",
       "    <tr style=\"text-align: right;\">\n",
       "      <th></th>\n",
       "      <th>Id</th>\n",
       "      <th>E</th>\n",
       "      <th>A</th>\n",
       "      <th>I</th>\n",
       "      <th>Ni</th>\n",
       "      <th>Nf</th>\n",
       "      <th>xi</th>\n",
       "      <th>yi</th>\n",
       "      <th>xf</th>\n",
       "      <th>yf</th>\n",
       "      <th>resx_i</th>\n",
       "      <th>resy_i</th>\n",
       "      <th>resz_i</th>\n",
       "      <th>resx_f</th>\n",
       "      <th>resy_f</th>\n",
       "      <th>resz_f</th>\n",
       "      <th>l1</th>\n",
       "      <th>l2</th>\n",
       "      <th>w1</th>\n",
       "      <th>w2</th>\n",
       "    </tr>\n",
       "  </thead>\n",
       "  <tbody>\n",
       "    <tr>\n",
       "      <th>0</th>\n",
       "      <td>1</td>\n",
       "      <td>4176000.0</td>\n",
       "      <td>0.11</td>\n",
       "      <td>0.0385</td>\n",
       "      <td>1</td>\n",
       "      <td>2</td>\n",
       "      <td>0.0</td>\n",
       "      <td>20.0</td>\n",
       "      <td>30.0</td>\n",
       "      <td>20.0</td>\n",
       "      <td>1.0</td>\n",
       "      <td>1.0</td>\n",
       "      <td>1.0</td>\n",
       "      <td>1.0</td>\n",
       "      <td>1.0</td>\n",
       "      <td>1.0</td>\n",
       "      <td>0.0</td>\n",
       "      <td>0.0</td>\n",
       "      <td>2.0</td>\n",
       "      <td>2.0</td>\n",
       "    </tr>\n",
       "    <tr>\n",
       "      <th>1</th>\n",
       "      <td>2</td>\n",
       "      <td>4176000.0</td>\n",
       "      <td>0.11</td>\n",
       "      <td>0.0385</td>\n",
       "      <td>2</td>\n",
       "      <td>3</td>\n",
       "      <td>30.0</td>\n",
       "      <td>20.0</td>\n",
       "      <td>45.0</td>\n",
       "      <td>0.0</td>\n",
       "      <td>1.0</td>\n",
       "      <td>1.0</td>\n",
       "      <td>0.0</td>\n",
       "      <td>1.0</td>\n",
       "      <td>1.0</td>\n",
       "      <td>1.0</td>\n",
       "      <td>0.0</td>\n",
       "      <td>0.0</td>\n",
       "      <td>0.0</td>\n",
       "      <td>0.0</td>\n",
       "    </tr>\n",
       "  </tbody>\n",
       "</table>\n",
       "</div>"
      ],
      "text/plain": [
       "   Id          E     A       I  Ni  Nf    xi    yi    xf    yf  resx_i  \\\n",
       "0   1  4176000.0  0.11  0.0385   1   2   0.0  20.0  30.0  20.0     1.0   \n",
       "1   2  4176000.0  0.11  0.0385   2   3  30.0  20.0  45.0   0.0     1.0   \n",
       "\n",
       "   resy_i  resz_i  resx_f  resy_f  resz_f   l1   l2   w1   w2  \n",
       "0     1.0     1.0     1.0     1.0     1.0  0.0  0.0  2.0  2.0  \n",
       "1     1.0     0.0     1.0     1.0     1.0  0.0  0.0  0.0  0.0  "
      ]
     },
     "execution_count": 3,
     "metadata": {},
     "output_type": "execute_result"
    }
   ],
   "source": [
    "Elementos = pd.read_csv('Ejemplo_3.0.csv')\n",
    "Elementos"
   ]
  },
  {
   "cell_type": "code",
   "execution_count": 4,
   "metadata": {},
   "outputs": [
    {
     "data": {
      "image/png": "[encoded data removed]",
      "text/plain": [
       "<Figure size 576x576 with 1 Axes>"
      ]
     },
     "metadata": {
      "needs_background": "light"
     },
     "output_type": "display_data"
    }
   ],
   "source": [
    "El = [None] * len(Elementos)\n",
    "\n",
    "plt.figure(figsize=(8,8))\n",
    "\n",
    "props1 = dict(boxstyle='round', facecolor='white', alpha=1.0)\n",
    "props2 = dict(boxstyle='round', facecolor='red', alpha=1.0)\n",
    "\n",
    "for i in np.arange(len(Elementos)):\n",
    "\n",
    "    Id = Elementos.loc[i]['Id']\n",
    "    Ni = Elementos.loc[i]['Ni']\n",
    "    Nf = Elementos.loc[i]['Nf']\n",
    "    xi = Elementos.loc[i]['xi']\n",
    "    yi = Elementos.loc[i]['yi']\n",
    "    xf = Elementos.loc[i]['xf']\n",
    "    yf = Elementos.loc[i]['yf']\n",
    "    \n",
    "    plt.plot([xi, xf],[yi, yf], '-k', lw=2.5)\n",
    "    plt.plot([xi, xf],[yi, yf], 'or', lw=1.0)\n",
    "    \n",
    "    plt.text((xf + xi)*0.5, (yf + yi)*0.5, np.int(Id), fontsize=12, bbox=props1)\n",
    "    plt.text(xi, yi, np.int(Ni), fontsize=10, bbox=props2)\n",
    "    plt.text(xf, yf, np.int(Nf), fontsize=10, bbox=props2)"
   ]
  },
  {
   "cell_type": "code",
   "execution_count": 5,
   "metadata": {},
   "outputs": [],
   "source": [
    "def crear_elemento(Id, E, A, I, Ni, Nf, xi, yi, xf, yf, resx_i, resy_i, resz_i, resx_f, resy_f, resz_f, L1, L2, w1, w2):\n",
    "    \n",
    "    ID = Id\n",
    "    L = ((xf - xi) ** 2 + (yf - yi) ** 2) ** 0.5\n",
    "    Cx = (xf - xi) / L\n",
    "    Cy = (yf - yi) / L\n",
    "    Rest_i = [resx_i, resy_i, resz_i]\n",
    "    Rest_f = [resx_f, resy_f, resz_f]\n",
    "    \n",
    "    ### Momentos y Cortantes de Empotramiento\n",
    "    \n",
    "    FSb1 = ((w1*(L-L1)**3)/(20*L**3)) * ((7*L + 8*L1) - ((L2*(3*L + 2*L1))/(L-L1)) * (1 + (L2/(L-L1)) + ((L2**2)/(L-L1)**2) + (2*L2**4/(L-L1)**3)))\n",
    "    FSb2 = ((w2*(L-L1)**3)/(20*L**3)) * ((3*L + 2*L1) * (1 + (L2/(L-L1)) + ((L2**2)/(L-L1)**2)) - (L2**3/(L-L1)**2) * (2 + (15*L-8*L2)/(L-L1)))\n",
    "    FSb = FSb1 + FSb2\n",
    "    \n",
    "    FMb1 = ((w1*(L-L1)**3)/(60*L**2)) * (3*(L + 4*L1) - L2*(2*L + 3*L1)/(L-L1) * (1 + (L2/(L-L1)) + (L2**2)/(L-L1)**2) + (3*L2**4/(L-L1)**3))\n",
    "    FMb2 = ((w2*(L-L1)**3)/(60*L**2)) * ((2*L + 4*L1) * (1 + (L2/(L-L1)) + (L2**2)/(L-L1)**2) - (3*L2**3/(L-L1)**2)) * (1 + (5*L-4*L2)/(L-L1))\n",
    "    FMb = FMb1 + FMb2    \n",
    "    \n",
    "    FSe = ((w1 + w2)/2)*(L-L1-L2) - FSb\n",
    "    \n",
    "    FMe = ((L-L1-L2)/6)*(w1*(-2*L + 2*L1 - L2) - w2*(L - L1 + 2*L2)) + FSb*L - FMb\n",
    "\n",
    "    return ID, Ni, Nf, xi, yi, xf, yf, L, Cx, Cy, A, E, I, Rest_i, Rest_f, FMb, FMe, FSb, FSe"
   ]
  },
  {
   "cell_type": "code",
   "execution_count": 6,
   "metadata": {},
   "outputs": [],
   "source": [
    "El = [None] * len(Elementos)\n",
    "\n",
    "for i in np.arange(len(Elementos)):\n",
    "\n",
    "    Id = Elementos.loc[i]['Id']\n",
    "    E = Elementos.loc[i]['E']\n",
    "    A = Elementos.loc[i]['A']\n",
    "    I = Elementos.loc[i]['I']\n",
    "    \n",
    "    Ni = Elementos.loc[i]['Ni']\n",
    "    Nf = Elementos.loc[i]['Nf']\n",
    "    xi = Elementos.loc[i]['xi']\n",
    "    yi = Elementos.loc[i]['yi']\n",
    "    xf = Elementos.loc[i]['xf']\n",
    "    yf = Elementos.loc[i]['yf']\n",
    "    \n",
    "    resx_i = Elementos.loc[i]['resx_i']\n",
    "    resy_i = Elementos.loc[i]['resy_i']\n",
    "    resz_i = Elementos.loc[i]['resz_i']\n",
    "    resx_f = Elementos.loc[i]['resx_f']\n",
    "    resy_f = Elementos.loc[i]['resy_f']\n",
    "    resz_f = Elementos.loc[i]['resz_f']\n",
    "\n",
    "    L1 = Elementos.loc[i]['l1']\n",
    "    L2 = Elementos.loc[i]['l2']\n",
    "    w1 = Elementos.loc[i]['w1']\n",
    "    w2 = Elementos.loc[i]['w2']\n",
    "    \n",
    "    El[i] = crear_elemento(Id, E, A, I, Ni, Nf, xi, yi, xf, yf, resx_i, resy_i, resz_i, resx_f, resy_f, resz_f, L1, L2, w1, w2)"
   ]
  },
  {
   "cell_type": "code",
   "execution_count": 7,
   "metadata": {
    "scrolled": true
   },
   "outputs": [
    {
     "data": {
      "text/html": [
       "<div>\n",
       "<style scoped>\n",
       "    .dataframe tbody tr th:only-of-type {\n",
       "        vertical-align: middle;\n",
       "    }\n",
       "\n",
       "    .dataframe tbody tr th {\n",
       "        vertical-align: top;\n",
       "    }\n",
       "\n",
       "    .dataframe thead th {\n",
       "        text-align: right;\n",
       "    }\n",
       "</style>\n",
       "<table border=\"1\" class=\"dataframe\">\n",
       "  <thead>\n",
       "    <tr style=\"text-align: right;\">\n",
       "      <th></th>\n",
       "      <th>ID</th>\n",
       "      <th>Ni</th>\n",
       "      <th>Nf</th>\n",
       "      <th>xi</th>\n",
       "      <th>yi</th>\n",
       "      <th>xf</th>\n",
       "      <th>yf</th>\n",
       "      <th>L</th>\n",
       "      <th>CX</th>\n",
       "      <th>CY</th>\n",
       "      <th>A</th>\n",
       "      <th>E</th>\n",
       "      <th>I</th>\n",
       "      <th>Rest_i</th>\n",
       "      <th>Rest_f</th>\n",
       "      <th>FMb</th>\n",
       "      <th>FMe</th>\n",
       "      <th>FSb</th>\n",
       "      <th>FSe</th>\n",
       "    </tr>\n",
       "  </thead>\n",
       "  <tbody>\n",
       "    <tr>\n",
       "      <th>0</th>\n",
       "      <td>1.0</td>\n",
       "      <td>1.0</td>\n",
       "      <td>2.0</td>\n",
       "      <td>0.0</td>\n",
       "      <td>20.0</td>\n",
       "      <td>30.0</td>\n",
       "      <td>20.0</td>\n",
       "      <td>30.0</td>\n",
       "      <td>1.0</td>\n",
       "      <td>0.0</td>\n",
       "      <td>0.11</td>\n",
       "      <td>4176000.0</td>\n",
       "      <td>0.0385</td>\n",
       "      <td>[1.0, 1.0, 1.0]</td>\n",
       "      <td>[1.0, 1.0, 1.0]</td>\n",
       "      <td>450.0</td>\n",
       "      <td>-450.0</td>\n",
       "      <td>30.0</td>\n",
       "      <td>30.0</td>\n",
       "    </tr>\n",
       "    <tr>\n",
       "      <th>1</th>\n",
       "      <td>2.0</td>\n",
       "      <td>2.0</td>\n",
       "      <td>3.0</td>\n",
       "      <td>30.0</td>\n",
       "      <td>20.0</td>\n",
       "      <td>45.0</td>\n",
       "      <td>0.0</td>\n",
       "      <td>25.0</td>\n",
       "      <td>0.6</td>\n",
       "      <td>-0.8</td>\n",
       "      <td>0.11</td>\n",
       "      <td>4176000.0</td>\n",
       "      <td>0.0385</td>\n",
       "      <td>[1.0, 1.0, 0.0]</td>\n",
       "      <td>[1.0, 1.0, 1.0]</td>\n",
       "      <td>0.0</td>\n",
       "      <td>0.0</td>\n",
       "      <td>0.0</td>\n",
       "      <td>0.0</td>\n",
       "    </tr>\n",
       "  </tbody>\n",
       "</table>\n",
       "</div>"
      ],
      "text/plain": [
       "    ID   Ni   Nf    xi    yi    xf    yf     L   CX   CY     A          E  \\\n",
       "0  1.0  1.0  2.0   0.0  20.0  30.0  20.0  30.0  1.0  0.0  0.11  4176000.0   \n",
       "1  2.0  2.0  3.0  30.0  20.0  45.0   0.0  25.0  0.6 -0.8  0.11  4176000.0   \n",
       "\n",
       "        I           Rest_i           Rest_f    FMb    FMe   FSb   FSe  \n",
       "0  0.0385  [1.0, 1.0, 1.0]  [1.0, 1.0, 1.0]  450.0 -450.0  30.0  30.0  \n",
       "1  0.0385  [1.0, 1.0, 0.0]  [1.0, 1.0, 1.0]    0.0    0.0   0.0   0.0  "
      ]
     },
     "execution_count": 7,
     "metadata": {},
     "output_type": "execute_result"
    }
   ],
   "source": [
    "Columns = ['ID', 'Ni', 'Nf', 'xi', 'yi', 'xf', 'yf', 'L', 'CX', 'CY', 'A', 'E', 'I', 'Rest_i', 'Rest_f', 'FMb', 'FMe', 'FSb', 'FSe']\n",
    "\n",
    "Tabla_Datos = pd.DataFrame(data = El, columns = Columns)\n",
    "Tabla_Datos"
   ]
  },
  {
   "cell_type": "markdown",
   "metadata": {},
   "source": [
    "##### Matriz Local"
   ]
  },
  {
   "cell_type": "code",
   "execution_count": 8,
   "metadata": {
    "scrolled": true
   },
   "outputs": [
    {
     "name": "stdout",
     "output_type": "stream",
     "text": [
      "Matriz del Elemento 1.0\n",
      "[[ 15312.        0.        0.   -15312.        0.        0.  ]\n",
      " [     0.       71.46   1071.84      0.      -71.46   1071.84]\n",
      " [     0.     1071.84  21436.8       0.    -1071.84  10718.4 ]\n",
      " [-15312.        0.        0.    15312.        0.        0.  ]\n",
      " [     0.      -71.46  -1071.84      0.       71.46  -1071.84]\n",
      " [     0.     1071.84    357.28      0.    -1071.84    535.92]]\n",
      "\n",
      "\n",
      "Matriz del Elemento 2.0\n",
      "[[ 18374.4       0.        0.   -18374.4       0.        0.  ]\n",
      " [     0.      123.48   1543.45      0.     -123.48   1543.45]\n",
      " [     0.     1543.45  25724.16      0.    -1543.45  12862.08]\n",
      " [-18374.4       0.        0.    18374.4       0.        0.  ]\n",
      " [     0.     -123.48  -1543.45      0.      123.48  -1543.45]\n",
      " [     0.     1543.45    514.48      0.    -1543.45    771.72]]\n",
      "\n",
      "\n"
     ]
    }
   ],
   "source": [
    "Matriz_local = [None] * len(Tabla_Datos)\n",
    "\n",
    "for i in np.arange(len(Tabla_Datos)):\n",
    "\n",
    "    L = Tabla_Datos['L'][i]\n",
    "    A = Tabla_Datos['A'][i]\n",
    "    E = Tabla_Datos['E'][i]\n",
    "    I = Tabla_Datos['I'][i]\n",
    "\n",
    "    Matriz_local[i] = matriz_local(L, A, E, I)\n",
    "    \n",
    "    print ('Matriz del Elemento ' + str(Tabla_Datos['ID'][i]))\n",
    "    print (Matriz_local[i])\n",
    "    print ('\\n')"
   ]
  },
  {
   "cell_type": "markdown",
   "metadata": {},
   "source": [
    "##### Matriz de Transformación"
   ]
  },
  {
   "cell_type": "code",
   "execution_count": 9,
   "metadata": {},
   "outputs": [
    {
     "name": "stdout",
     "output_type": "stream",
     "text": [
      "Matriz de Transformación  1.0\n",
      "[[ 1. -0.  0.  0.  0.  0.]\n",
      " [ 0.  1.  0.  0.  0.  0.]\n",
      " [ 0.  0.  1.  0.  0.  0.]\n",
      " [ 0.  0.  0.  1. -0.  0.]\n",
      " [ 0.  0.  0.  0.  1.  0.]\n",
      " [ 0.  0.  0.  0.  0.  1.]]\n",
      "\n",
      "\n",
      "Matriz de Transformación  2.0\n",
      "[[ 0.6  0.8  0.   0.   0.   0. ]\n",
      " [-0.8  0.6  0.   0.   0.   0. ]\n",
      " [ 0.   0.   1.   0.   0.   0. ]\n",
      " [ 0.   0.   0.   0.6  0.8  0. ]\n",
      " [ 0.   0.   0.  -0.8  0.6  0. ]\n",
      " [ 0.   0.   0.   0.   0.   1. ]]\n",
      "\n",
      "\n"
     ]
    }
   ],
   "source": [
    "Matriz_T = [None] * len(Tabla_Datos)\n",
    "\n",
    "for i in np.arange(len(Tabla_Datos)):\n",
    "\n",
    "    CX = Tabla_Datos['CX'][i]\n",
    "    CY = Tabla_Datos['CY'][i]\n",
    "    \n",
    "    Matriz_T[i] = matriz_T(CX,CY)\n",
    "    \n",
    "for i in np.arange(len(Matriz_T)):\n",
    "    \n",
    "    print (u'Matriz de Transformación  ' + str(Tabla_Datos['ID'][i]))\n",
    "    print (Matriz_T[i])\n",
    "    print ('\\n')"
   ]
  },
  {
   "cell_type": "markdown",
   "metadata": {},
   "source": [
    "##### Matriz en coordenadas globales"
   ]
  },
  {
   "cell_type": "code",
   "execution_count": 10,
   "metadata": {},
   "outputs": [
    {
     "name": "stdout",
     "output_type": "stream",
     "text": [
      "Matriz del Elemento 1.0\n",
      "[[ 15312.        0.        0.   -15312.        0.        0.  ]\n",
      " [     0.       71.46   1071.84      0.      -71.46   1071.84]\n",
      " [     0.     1071.84  21436.8       0.    -1071.84  10718.4 ]\n",
      " [-15312.        0.        0.    15312.        0.        0.  ]\n",
      " [     0.      -71.46  -1071.84      0.       71.46  -1071.84]\n",
      " [     0.     1071.84    357.28      0.    -1071.84    535.92]]\n",
      "\n",
      "\n",
      "Matriz del Elemento 2.0\n",
      "[[  6535.7568   8878.9824   1234.76    -6535.7568  -8878.9824   1234.76  ]\n",
      " [ -8878.9824 -11715.1632    926.07     8878.9824  11715.1632    926.07  ]\n",
      " [ -1234.76      926.07    25724.16     1234.76     -926.07    12862.08  ]\n",
      " [ -6535.7568  -8878.9824  -1234.76     6535.7568   8878.9824  -1234.76  ]\n",
      " [  8878.9824  11715.1632   -926.07    -8878.9824 -11715.1632   -926.07  ]\n",
      " [ -1234.76      926.07      514.48     1234.76     -926.07      771.72  ]]\n",
      "\n",
      "\n"
     ]
    }
   ],
   "source": [
    "Matriz_global = [None] * len(Tabla_Datos)\n",
    "\n",
    "for i in np.arange(len(Tabla_Datos)):\n",
    "\n",
    "    Matriz_global[i] = Matriz_T[i] * Matriz_local[i] * Matriz_T[i]\n",
    "    \n",
    "    print (u'Matriz del Elemento ' + str(Tabla_Datos['ID'][i]))\n",
    "    print (Matriz_global[i])\n",
    "    print ('\\n')"
   ]
  },
  {
   "cell_type": "markdown",
   "metadata": {},
   "source": [
    "##### Obtención de Elementos"
   ]
  },
  {
   "cell_type": "code",
   "execution_count": 11,
   "metadata": {},
   "outputs": [
    {
     "data": {
      "text/plain": [
       "[[1, 2], [2, 3]]"
      ]
     },
     "execution_count": 11,
     "metadata": {},
     "output_type": "execute_result"
    }
   ],
   "source": [
    "elementos = []\n",
    "for i in np.arange(len(Elementos)):\n",
    "    \n",
    "    nodos_aux = [Elementos['Ni'][i], Elementos['Nf'][i]]\n",
    "    elementos.append(nodos_aux)\n",
    "    \n",
    "elementos"
   ]
  },
  {
   "cell_type": "markdown",
   "metadata": {},
   "source": [
    "##### Obtención de Nodos"
   ]
  },
  {
   "cell_type": "code",
   "execution_count": 12,
   "metadata": {},
   "outputs": [
    {
     "data": {
      "text/html": [
       "<div>\n",
       "<style scoped>\n",
       "    .dataframe tbody tr th:only-of-type {\n",
       "        vertical-align: middle;\n",
       "    }\n",
       "\n",
       "    .dataframe tbody tr th {\n",
       "        vertical-align: top;\n",
       "    }\n",
       "\n",
       "    .dataframe thead th {\n",
       "        text-align: right;\n",
       "    }\n",
       "</style>\n",
       "<table border=\"1\" class=\"dataframe\">\n",
       "  <thead>\n",
       "    <tr style=\"text-align: right;\">\n",
       "      <th></th>\n",
       "      <th>Nodos</th>\n",
       "      <th>GDL_Nodos</th>\n",
       "      <th>Cord_Nodos</th>\n",
       "    </tr>\n",
       "  </thead>\n",
       "  <tbody>\n",
       "    <tr>\n",
       "      <th>0</th>\n",
       "      <td>1.0</td>\n",
       "      <td>[1.0, 1.0, 1.0]</td>\n",
       "      <td>[0.0, 20.0]</td>\n",
       "    </tr>\n",
       "    <tr>\n",
       "      <th>1</th>\n",
       "      <td>2.0</td>\n",
       "      <td>[1.0, 1.0, 0.0]</td>\n",
       "      <td>[30.0, 20.0]</td>\n",
       "    </tr>\n",
       "    <tr>\n",
       "      <th>2</th>\n",
       "      <td>3.0</td>\n",
       "      <td>[1.0, 1.0, 1.0]</td>\n",
       "      <td>[45.0, 0.0]</td>\n",
       "    </tr>\n",
       "  </tbody>\n",
       "</table>\n",
       "</div>"
      ],
      "text/plain": [
       "   Nodos        GDL_Nodos    Cord_Nodos\n",
       "0    1.0  [1.0, 1.0, 1.0]   [0.0, 20.0]\n",
       "1    2.0  [1.0, 1.0, 0.0]  [30.0, 20.0]\n",
       "2    3.0  [1.0, 1.0, 1.0]   [45.0, 0.0]"
      ]
     },
     "execution_count": 12,
     "metadata": {},
     "output_type": "execute_result"
    }
   ],
   "source": [
    "Nodos_i = Tabla_Datos['Ni']\n",
    "Nodos_f = Tabla_Datos['Nf']\n",
    "N_Nodos = max(np.max(Nodos_i), np.max(Nodos_f))\n",
    "\n",
    "### GDL por Nodos\n",
    "GDL_Nodos = []\n",
    "List_Nodos = []\n",
    "Cord_Nodos = []\n",
    "\n",
    "for i in np.arange(1, N_Nodos + 1):\n",
    "    \n",
    "    for j in np.arange(len(Tabla_Datos)): \n",
    "        \n",
    "        if i == Tabla_Datos['Ni'][j]:\n",
    "            \n",
    "            gdl = Tabla_Datos['Rest_i'][j]\n",
    "            Cor_x = Tabla_Datos['xi'][j]\n",
    "            Cor_y = Tabla_Datos['yi'][j]\n",
    "            \n",
    "        elif i == Tabla_Datos['Nf'][j]:\n",
    "        \n",
    "            gdl = Tabla_Datos['Rest_f'][j]\n",
    "            Cor_x = Tabla_Datos['xf'][j]\n",
    "            Cor_y = Tabla_Datos['yf'][j]\n",
    "        \n",
    "        List_Nodos.append(i)\n",
    "        GDL_Nodos.append(gdl)\n",
    "        Cord_Nodos.append([Cor_x, Cor_y])\n",
    "        \n",
    "nodos = pd.DataFrame()\n",
    "nodos['Nodos'] = List_Nodos\n",
    "nodos['GDL_Nodos'] = GDL_Nodos\n",
    "nodos['Cord_Nodos'] = Cord_Nodos\n",
    "nodos = nodos[~ nodos['Nodos'].duplicated(keep='last')]\n",
    "Nodos = nodos.reset_index(drop=True)\n",
    "Nodos"
   ]
  },
  {
   "cell_type": "code",
   "execution_count": 13,
   "metadata": {},
   "outputs": [
    {
     "name": "stdout",
     "output_type": "stream",
     "text": [
      "Número de Restricciones:  8\n",
      "Número de Grados de Libertad:  1\n"
     ]
    }
   ],
   "source": [
    "restricciones = [None] * len(Nodos)\n",
    "for i in np.arange(len(Nodos)):\n",
    "    \n",
    "    restricciones[i] = Nodos['GDL_Nodos'][i]\n",
    "    \n",
    "rest_DoF = np.array(restricciones).flatten()\n",
    "\n",
    "rest_index = np.where(rest_DoF != 0)[0]\n",
    "free_index = np.where(rest_DoF == 0)[0]\n",
    "\n",
    "\n",
    "print u'Número de Restricciones: ', len(rest_index)\n",
    "print u'Número de Grados de Libertad: ', len(free_index)"
   ]
  },
  {
   "cell_type": "code",
   "execution_count": 14,
   "metadata": {},
   "outputs": [],
   "source": [
    "# Cálculo de número de nodos y de elementos en términos de las listas de entrada\n",
    "\n",
    "n_nodos = len(Nodos)\n",
    "n_elem  = len(Elementos)\n",
    "\n",
    "DoF = n_nodos*3 # Número de grados de libertad totales para toda la estructura\n",
    "\n",
    "K = np.zeros([DoF,DoF])"
   ]
  },
  {
   "cell_type": "markdown",
   "metadata": {},
   "source": [
    "##### Matriz de rigidez global de la estructura."
   ]
  },
  {
   "cell_type": "code",
   "execution_count": 15,
   "metadata": {},
   "outputs": [],
   "source": [
    "for e, elem in enumerate(elementos):\n",
    "    \n",
    "    ni = elem[0] # índice de nodo inicial\n",
    "    nj = elem[1] # Índice de nodo final\n",
    "    \n",
    "    # Corrección de índice. Los arreglos en python inician en 0\n",
    "    ni = ni - 1\n",
    "    nj = nj - 1\n",
    "    \n",
    "    xi = Nodos['Cord_Nodos'][ni][0]\n",
    "    yi = Nodos['Cord_Nodos'][ni][1]\n",
    "    \n",
    "    xf = Nodos['Cord_Nodos'][ni][0]\n",
    "    yf = Nodos['Cord_Nodos'][ni][1]\n",
    "\n",
    "    inicialI = int(3*ni)\n",
    "    finalI = int(3*ni + 2)\n",
    "\n",
    "    inicialJ = int(3*nj)\n",
    "    finalJ = int(3*nj + 2)\n",
    "\n",
    "    K[inicialI:finalI+1, inicialI:finalI+1] = K[inicialI:finalI+1,inicialI:finalI+1] +  Matriz_global[e][0:3,0:3]\n",
    "    K[inicialJ:finalJ+1, inicialJ:finalJ+1] += Matriz_global[e][3:6,3:6]\n",
    "    K[inicialI:finalI+1,inicialJ:finalJ+1] += Matriz_global[e][0:3,3:6]\n",
    "    K[inicialJ:finalJ+1,inicialI:finalI+1] += Matriz_global[e][3:6,0:3]"
   ]
  },
  {
   "cell_type": "code",
   "execution_count": 16,
   "metadata": {},
   "outputs": [],
   "source": [
    "Knn = [[K[i][j] for j in free_index] for i in free_index]\n",
    "Kaa = [[K[i][j] for j in rest_index] for i in rest_index]\n",
    "Kan = [[K[i][j] for j in rest_index] for i in free_index]"
   ]
  },
  {
   "cell_type": "code",
   "execution_count": 17,
   "metadata": {},
   "outputs": [
    {
     "data": {
      "image/png": "[encoded data removed]",
      "text/plain": [
       "<Figure size 432x288 with 1 Axes>"
      ]
     },
     "metadata": {
      "needs_background": "light"
     },
     "output_type": "display_data"
    }
   ],
   "source": [
    "Knn = np.matrix(Knn)\n",
    "Kaa = np.matrix(Kaa)\n",
    "Kan = np.matrix(Kan)\n",
    "Kna = Kan.transpose()\n",
    "\n",
    "import matplotlib.pyplot as plt\n",
    "fig, ax = plt.subplots()\n",
    "plt.spy(K, marker='o')\n",
    "plt.show()"
   ]
  },
  {
   "cell_type": "code",
   "execution_count": 19,
   "metadata": {},
   "outputs": [
    {
     "data": {
      "text/plain": [
       "matrix([[ 15312.    ,      0.    ,      0.    , -15312.    ,      0.    ,\n",
       "              0.    ,      0.    ,      0.    ,      0.    ],\n",
       "        [     0.    ,     71.46  ,   1071.84  ,      0.    ,    -71.46  ,\n",
       "           1071.84  ,      0.    ,      0.    ,      0.    ],\n",
       "        [     0.    ,   1071.84  ,  21436.8   ,      0.    ,  -1071.84  ,\n",
       "          10718.4   ,      0.    ,      0.    ,      0.    ],\n",
       "        [-15312.    ,      0.    ,      0.    ,  21847.7568,   8878.9824,\n",
       "           1234.76  ,  -6535.7568,  -8878.9824,   1234.76  ],\n",
       "        [     0.    ,    -71.46  ,  -1071.84  ,  -8878.9824, -11643.7032,\n",
       "           -145.77  ,   8878.9824,  11715.1632,    926.07  ],\n",
       "        [     0.    ,   1071.84  ,    357.28  ,  -1234.76  ,   -145.77  ,\n",
       "          26260.08  ,   1234.76  ,   -926.07  ,  12862.08  ],\n",
       "        [     0.    ,      0.    ,      0.    ,  -6535.7568,  -8878.9824,\n",
       "          -1234.76  ,   6535.7568,   8878.9824,  -1234.76  ],\n",
       "        [     0.    ,      0.    ,      0.    ,   8878.9824,  11715.1632,\n",
       "           -926.07  ,  -8878.9824, -11715.1632,   -926.07  ],\n",
       "        [     0.    ,      0.    ,      0.    ,  -1234.76  ,    926.07  ,\n",
       "            514.48  ,   1234.76  ,   -926.07  ,    771.72  ]])"
      ]
     },
     "execution_count": 19,
     "metadata": {},
     "output_type": "execute_result"
    }
   ],
   "source": [
    "np.matrix(K)"
   ]
  },
  {
   "cell_type": "code",
   "execution_count": null,
   "metadata": {},
   "outputs": [],
   "source": []
  },
  {
   "cell_type": "code",
   "execution_count": null,
   "metadata": {},
   "outputs": [],
   "source": []
  },
  {
   "cell_type": "code",
   "execution_count": null,
   "metadata": {},
   "outputs": [],
   "source": []
  },
  {
   "cell_type": "code",
   "execution_count": null,
   "metadata": {},
   "outputs": [],
   "source": []
  },
  {
   "cell_type": "code",
   "execution_count": 2,
   "metadata": {},
   "outputs": [],
   "source": [
    "def matriz_T(CX, CY):\n",
    "    \n",
    "    T11 = CX \n",
    "    T21 = -CY\n",
    "    T31 = 0.0\n",
    "    T41 = 0.0\n",
    "    T51 = 0.0\n",
    "    T61 = 0.0\n",
    "    \n",
    "    T12 = CY\n",
    "    T22 = CX\n",
    "    T32 = 0.0\n",
    "    T42 = 0.0\n",
    "    T52 = 0.0\n",
    "    T62 = 0.0\n",
    "    \n",
    "    T13 = 0.0\n",
    "    T23 = 0.0\n",
    "    T33 = 1.0\n",
    "    T43 = 0.0 \n",
    "    T53 = 0.0\n",
    "    T63 = 0.0\n",
    "    \n",
    "    T14 = 0.0\n",
    "    T24 = 0.0\n",
    "    T34 = 0.0\n",
    "    T44 = CX\n",
    "    T54 = -CY\n",
    "    T64 = 0.0\n",
    "    \n",
    "    T15 = 0.0\n",
    "    T25 = 0.0\n",
    "    T35 = 0.0\n",
    "    T45 = CY\n",
    "    T55 = CX \n",
    "    T65 = 0.0\n",
    "    \n",
    "    T16 = 0.0\n",
    "    T26 = 0.0\n",
    "    T36 = 0.0\n",
    "    T46 = 0.0\n",
    "    T56 = 0.0 \n",
    "    T66 = 1.0\n",
    "    \n",
    "    T = [[T11, T21, T31, T41, T51, T61], [T12, T22, T32, T42, T52, T62], [T13, T23, T33, T43, T53, T63],\n",
    "         [T14, T24, T34, T44, T54, T64], [T15, T25, T35, T45, T55, T65], [T16, T26, T36, T46, T56, T66]]\n",
    "    \n",
    "    matriz = np.matrix(np.round(T,4))\n",
    "        \n",
    "    return matriz"
   ]
  },
  {
   "cell_type": "code",
   "execution_count": null,
   "metadata": {},
   "outputs": [],
   "source": []
  },
  {
   "cell_type": "code",
   "execution_count": null,
   "metadata": {},
   "outputs": [],
   "source": []
  }
 ],
 "metadata": {
  "kernelspec": {
   "display_name": "Python 3",
   "language": "python",
   "name": "python3"
  },
  "language_info": {
   "codemirror_mode": {
    "name": "ipython",
    "version": 2
   },
   "file_extension": ".py",
   "mimetype": "text/x-python",
   "name": "python",
   "nbconvert_exporter": "python",
   "pygments_lexer": "ipython2",
   "version": "2.7.17"
  }
 },
 "nbformat": 4,
 "nbformat_minor": 2
}
