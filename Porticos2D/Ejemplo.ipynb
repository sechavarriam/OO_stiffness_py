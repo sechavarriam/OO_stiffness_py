{
 "cells": [
  {
   "cell_type": "code",
   "execution_count": 1,
   "metadata": {},
   "outputs": [],
   "source": [
    "import numpy as np\n",
    "import math \n",
    "from K_cercha import K_cerchaGlobal"
   ]
  },
  {
   "cell_type": "code",
   "execution_count": 2,
   "metadata": {},
   "outputs": [],
   "source": [
    "# DATOS SECCIÓN\n",
    "E = 210e6      #[kPa] = 200 [GPa]\n",
    "A = 0.05*0.02  #[m]^2\n",
    "\n",
    "# Variables auxiliares para creación de la malla\n",
    "r1 = 1.0\n",
    "r2 = 1.2\n",
    "\n",
    "t0 = 0\n",
    "t1 = 90/4\n",
    "t2 = 45\n",
    "t3 = 3*90/4\n",
    "t4 = 90"
   ]
  },
  {
   "cell_type": "code",
   "execution_count": 3,
   "metadata": {},
   "outputs": [],
   "source": [
    "nodosPolares = np.array([\n",
    "    [r1,t4],\n",
    "    [r2,t3],\n",
    "    [r1,t2],\n",
    "    [r2,t1],\n",
    "    [r1,t0],\n",
    "    [r2,t4],\n",
    "    [r1,t3],\n",
    "    [r2,t2],\n",
    "    [r1,t1],\n",
    "    [r2,t0]\n",
    "])"
   ]
  },
  {
   "cell_type": "code",
   "execution_count": 4,
   "metadata": {},
   "outputs": [],
   "source": [
    "nodos = []\n",
    "\n",
    "for nodo in nodosPolares: \n",
    "\n",
    "    x = nodo[0]*math.cos(nodo[1]*math.pi/180) \n",
    "    y = nodo[0]*math.sin(nodo[1]*math.pi/180) \n",
    "    \n",
    "    c = [x,y] \n",
    "    \n",
    "    nodos.append(c) \n",
    "    \n",
    "nodos = np.array(nodos)"
   ]
  },
  {
   "cell_type": "code",
   "execution_count": 5,
   "metadata": {},
   "outputs": [],
   "source": [
    "restricciones = np.array([\n",
    "    [1,1],\n",
    "    [0,0],\n",
    "    [0,0],\n",
    "    [0,0],\n",
    "    [1,1],\n",
    "    [1,0],\n",
    "    [0,0],\n",
    "    [0,0],\n",
    "    [0,0],\n",
    "    [1,0]\n",
    "])"
   ]
  },
  {
   "cell_type": "code",
   "execution_count": 6,
   "metadata": {},
   "outputs": [
    {
     "name": "stdout",
     "output_type": "stream",
     "text": [
      "[1 1 0 0 0 0 0 0 1 1 1 0 0 0 0 0 0 0 1 0]\n"
     ]
    }
   ],
   "source": [
    "rest_DoF = restricciones.flatten()\n",
    "print(rest_DoF)"
   ]
  },
  {
   "cell_type": "code",
   "execution_count": 7,
   "metadata": {},
   "outputs": [
    {
     "name": "stdout",
     "output_type": "stream",
     "text": [
      "(array([ 0,  1,  8,  9, 10, 18]),)\n"
     ]
    }
   ],
   "source": [
    "rest_index = np.where(rest_DoF != 0)[0]\n",
    "free_index = np.where(rest_DoF == 0)[0]\n",
    "\n",
    "print(np.where(rest_DoF != 0))"
   ]
  },
  {
   "cell_type": "code",
   "execution_count": 10,
   "metadata": {},
   "outputs": [],
   "source": [
    "elementos = np.array([\n",
    "    [1,7],\n",
    "    [1,6],\n",
    "    [6,2],\n",
    "    [6,7],\n",
    "    [5,10],\n",
    "    [4,10],\n",
    "    [5,4],\n",
    "    [9,5],\n",
    "    [9,4],\n",
    "    [8,4],\n",
    "    [8,9],\n",
    "    [3,9],\n",
    "    [2,8],\n",
    "    [3,8],\n",
    "    [2,3],\n",
    "    [2,7],\n",
    "    [7,3]\n",
    "])\n",
    "\n",
    "n_nodos = len(nodos)\n",
    "n_elem  = len(elementos)\n",
    "\n",
    "DoF = n_nodos*2"
   ]
  },
  {
   "cell_type": "code",
   "execution_count": 14,
   "metadata": {},
   "outputs": [],
   "source": [
    "theta = [] #Lista que almacenará la inclinación de cada elemento\n",
    "L = [] # Lista que almacenará la longitud de cada elemento\n",
    "\n",
    "K_elem = [] \n",
    "\n",
    "i = 0\n",
    "for elem in elementos:\n",
    "    \n",
    "    ni = elem[0] # índice de nodo inicial\n",
    "    nj = elem[1] # Índice de nodo final\n",
    "\n",
    "    # Corrección de índice. Los arreglos en python inician en 0\n",
    "    ni = ni - 1\n",
    "    nj = nj - 1\n",
    "\n",
    "    # Extracción de coordenadas nodo inicial\n",
    "    xi = nodos[ni][0]\n",
    "    yi = nodos[ni][1]\n",
    "\n",
    "    # Extracción de coordenadas nodo final\n",
    "    xj = nodos[nj][0]\n",
    "    yj = nodos[nj][1] \n",
    "\n",
    "    theta.append(math.atan2(yj-yi,xj-xi))      # Pone el valor calculado del ángulo al final de la lista.\n",
    "    L.append(math.sqrt((xj-xi)**2+(yj-yi)**2)) # Pone el valor calculado de la longitud al final de la lista.\n",
    "\n",
    "    K_elem.append(K_cerchaGlobal(theta[i], E, A, L[i])) #Cálculo y almacenamiento de matriz de rigidez global por elemento.\n",
    "    \n",
    "    i=i+1\n"
   ]
  },
  {
   "cell_type": "code",
   "execution_count": 16,
   "metadata": {},
   "outputs": [
    {
     "data": {
      "image/png": "[encoded data removed]",
      "text/plain": [
       "<Figure size 432x288 with 1 Axes>"
      ]
     },
     "metadata": {
      "needs_background": "light"
     },
     "output_type": "display_data"
    }
   ],
   "source": [
    "from plot_Struct1D import plot_2D_Truss\n",
    "plot_2D_Truss(nodos, elementos)"
   ]
  },
  {
   "cell_type": "code",
   "execution_count": 34,
   "metadata": {},
   "outputs": [
    {
     "name": "stdout",
     "output_type": "stream",
     "text": [
      "[[ 5.05730799e+05 -1.02892094e+05  0.00000000e+00  0.00000000e+00\n",
      "   0.00000000e+00  0.00000000e+00  0.00000000e+00  0.00000000e+00\n",
      "   0.00000000e+00  0.00000000e+00 -3.93686943e-27 -6.42939570e-11\n",
      "  -5.05730799e+05  1.02892094e+05  0.00000000e+00  0.00000000e+00\n",
      "   0.00000000e+00  0.00000000e+00  0.00000000e+00  0.00000000e+00]\n",
      " [-1.02892094e+05  1.07093363e+06  0.00000000e+00  0.00000000e+00\n",
      "   0.00000000e+00  0.00000000e+00  0.00000000e+00  0.00000000e+00\n",
      "   0.00000000e+00  0.00000000e+00 -6.42939570e-11 -1.05000000e+06\n",
      "   1.02892094e+05 -2.09336331e+04  0.00000000e+00  0.00000000e+00\n",
      "   0.00000000e+00  0.00000000e+00  0.00000000e+00  0.00000000e+00]\n",
      " [ 0.00000000e+00  0.00000000e+00  1.01667824e+06 -1.20494458e+05\n",
      "  -1.19752285e+05  1.99813345e+05  0.00000000e+00  0.00000000e+00\n",
      "   0.00000000e+00  0.00000000e+00 -4.21442333e+05  8.57434117e+04\n",
      "  -1.60304356e+05 -3.77653395e+05 -3.15179263e+05  2.12591097e+05\n",
      "   0.00000000e+00  0.00000000e+00  0.00000000e+00  0.00000000e+00]\n",
      " [ 0.00000000e+00  0.00000000e+00 -1.20494458e+05  1.38393452e+06\n",
      "   1.99813345e+05 -3.33399674e+05  0.00000000e+00  0.00000000e+00\n",
      "   0.00000000e+00  0.00000000e+00  8.57434117e+04 -1.74446943e+04\n",
      "  -3.77653395e+05 -8.89695644e+05  2.12591097e+05 -1.43394506e+05\n",
      "   0.00000000e+00  0.00000000e+00  0.00000000e+00  0.00000000e+00]\n",
      " [ 0.00000000e+00  0.00000000e+00 -1.19752285e+05  1.99813345e+05\n",
      "   1.18340752e+06 -1.72321244e+05  0.00000000e+00  0.00000000e+00\n",
      "   0.00000000e+00  0.00000000e+00  0.00000000e+00  0.00000000e+00\n",
      "  -3.78215115e+05  2.55109316e+05 -5.25000000e+05 -5.25000000e+05\n",
      "  -1.60440122e+05  2.42398583e+05  0.00000000e+00  0.00000000e+00]\n",
      " [ 0.00000000e+00  0.00000000e+00  1.99813345e+05 -3.33399674e+05\n",
      "  -1.72321244e+05  1.39669739e+06  0.00000000e+00  0.00000000e+00\n",
      "   0.00000000e+00  0.00000000e+00  0.00000000e+00  0.00000000e+00\n",
      "   2.55109316e+05 -1.72073407e+05 -5.25000000e+05 -5.25000000e+05\n",
      "   2.42398583e+05 -3.66224310e+05  0.00000000e+00  0.00000000e+00]\n",
      " [ 0.00000000e+00  0.00000000e+00  0.00000000e+00  0.00000000e+00\n",
      "   0.00000000e+00  0.00000000e+00  1.07981192e+06  1.83628141e+05\n",
      "  -2.67626347e+04 -1.06823695e+05  0.00000000e+00  0.00000000e+00\n",
      "   0.00000000e+00  0.00000000e+00 -1.33700102e+05  2.01998819e+05\n",
      "  -9.02653395e+05 -3.64695644e+05 -1.66957871e+04  8.58923786e+04]\n",
      " [ 0.00000000e+00  0.00000000e+00  0.00000000e+00  0.00000000e+00\n",
      "   0.00000000e+00  0.00000000e+00  1.83628141e+05  1.32080084e+06\n",
      "  -1.06823695e+05 -4.26389324e+05  0.00000000e+00  0.00000000e+00\n",
      "   0.00000000e+00  0.00000000e+00  2.01998819e+05 -3.05186925e+05\n",
      "  -3.64695644e+05 -1.47346605e+05  8.58923786e+04 -4.41877981e+05]\n",
      " [ 0.00000000e+00  0.00000000e+00  0.00000000e+00  0.00000000e+00\n",
      "   0.00000000e+00  0.00000000e+00 -2.67626347e+04 -1.06823695e+05\n",
      "   1.09679758e+06  3.75284038e+03  0.00000000e+00  0.00000000e+00\n",
      "   0.00000000e+00  0.00000000e+00  0.00000000e+00  0.00000000e+00\n",
      "  -2.00349445e+04  1.03070854e+05 -1.05000000e+06  0.00000000e+00]\n",
      " [ 0.00000000e+00  0.00000000e+00  0.00000000e+00  0.00000000e+00\n",
      "   0.00000000e+00  0.00000000e+00 -1.06823695e+05 -4.26389324e+05\n",
      "   3.75284038e+03  9.56642902e+05  0.00000000e+00  0.00000000e+00\n",
      "   0.00000000e+00  0.00000000e+00  0.00000000e+00  0.00000000e+00\n",
      "   1.03070854e+05 -5.30253577e+05  0.00000000e+00  0.00000000e+00]\n",
      " [-3.93686943e-27 -6.42939570e-11 -4.21442333e+05  8.57434117e+04\n",
      "   0.00000000e+00  0.00000000e+00  0.00000000e+00  0.00000000e+00\n",
      "   0.00000000e+00  0.00000000e+00  7.10613168e+05 -2.92591137e+05\n",
      "  -2.89170836e+05  2.06847725e+05  0.00000000e+00  0.00000000e+00\n",
      "   0.00000000e+00  0.00000000e+00  0.00000000e+00  0.00000000e+00]\n",
      " [-6.42939570e-11 -1.05000000e+06  8.57434117e+04 -1.74446943e+04\n",
      "   0.00000000e+00  0.00000000e+00  0.00000000e+00  0.00000000e+00\n",
      "   0.00000000e+00  0.00000000e+00 -2.92591137e+05  1.21540561e+06\n",
      "   2.06847725e+05 -1.47960915e+05  0.00000000e+00  0.00000000e+00\n",
      "   0.00000000e+00  0.00000000e+00  0.00000000e+00  0.00000000e+00]\n",
      " [-5.05730799e+05  1.02892094e+05 -1.60304356e+05 -3.77653395e+05\n",
      "  -3.78215115e+05  2.55109316e+05  0.00000000e+00  0.00000000e+00\n",
      "   0.00000000e+00  0.00000000e+00 -2.89170836e+05  2.06847725e+05\n",
      "   1.33342111e+06 -1.87195740e+05  0.00000000e+00  0.00000000e+00\n",
      "   0.00000000e+00  0.00000000e+00  0.00000000e+00  0.00000000e+00]\n",
      " [ 1.02892094e+05 -2.09336331e+04 -3.77653395e+05 -8.89695644e+05\n",
      "   2.55109316e+05 -1.72073407e+05  0.00000000e+00  0.00000000e+00\n",
      "   0.00000000e+00  0.00000000e+00  2.06847725e+05 -1.47960915e+05\n",
      "  -1.87195740e+05  1.23066360e+06  0.00000000e+00  0.00000000e+00\n",
      "   0.00000000e+00  0.00000000e+00  0.00000000e+00  0.00000000e+00]\n",
      " [ 0.00000000e+00  0.00000000e+00 -3.15179263e+05  2.12591097e+05\n",
      "  -5.25000000e+05 -5.25000000e+05 -1.33700102e+05  2.01998819e+05\n",
      "   0.00000000e+00  0.00000000e+00  0.00000000e+00  0.00000000e+00\n",
      "   0.00000000e+00  0.00000000e+00  9.85597515e+05  3.98051235e+04\n",
      "  -1.17181501e+04  7.06049603e+04  0.00000000e+00  0.00000000e+00]\n",
      " [ 0.00000000e+00  0.00000000e+00  2.12591097e+05 -1.43394506e+05\n",
      "  -5.25000000e+05 -5.25000000e+05  2.01998819e+05 -3.05186925e+05\n",
      "   0.00000000e+00  0.00000000e+00  0.00000000e+00  0.00000000e+00\n",
      "   0.00000000e+00  0.00000000e+00  3.98051235e+04  1.39899503e+06\n",
      "   7.06049603e+04 -4.25413600e+05  0.00000000e+00  0.00000000e+00]\n",
      " [ 0.00000000e+00  0.00000000e+00  0.00000000e+00  0.00000000e+00\n",
      "  -1.60440122e+05  2.42398583e+05 -9.02653395e+05 -3.64695644e+05\n",
      "  -2.00349445e+04  1.03070854e+05  0.00000000e+00  0.00000000e+00\n",
      "   0.00000000e+00  0.00000000e+00 -1.17181501e+04  7.06049603e+04\n",
      "   1.09484661e+06 -5.13787531e+04  0.00000000e+00  0.00000000e+00]\n",
      " [ 0.00000000e+00  0.00000000e+00  0.00000000e+00  0.00000000e+00\n",
      "   2.42398583e+05 -3.66224310e+05 -3.64695644e+05 -1.47346605e+05\n",
      "   1.03070854e+05 -5.30253577e+05  0.00000000e+00  0.00000000e+00\n",
      "   0.00000000e+00  0.00000000e+00  7.06049603e+04 -4.25413600e+05\n",
      "  -5.13787531e+04  1.46923809e+06  0.00000000e+00  0.00000000e+00]\n",
      " [ 0.00000000e+00  0.00000000e+00  0.00000000e+00  0.00000000e+00\n",
      "   0.00000000e+00  0.00000000e+00 -1.66957871e+04  8.58923786e+04\n",
      "  -1.05000000e+06  0.00000000e+00  0.00000000e+00  0.00000000e+00\n",
      "   0.00000000e+00  0.00000000e+00  0.00000000e+00  0.00000000e+00\n",
      "   0.00000000e+00  0.00000000e+00  1.06669579e+06 -8.58923786e+04]\n",
      " [ 0.00000000e+00  0.00000000e+00  0.00000000e+00  0.00000000e+00\n",
      "   0.00000000e+00  0.00000000e+00  8.58923786e+04 -4.41877981e+05\n",
      "   0.00000000e+00  0.00000000e+00  0.00000000e+00  0.00000000e+00\n",
      "   0.00000000e+00  0.00000000e+00  0.00000000e+00  0.00000000e+00\n",
      "   0.00000000e+00  0.00000000e+00 -8.58923786e+04  4.41877981e+05]]\n"
     ]
    }
   ],
   "source": [
    "K = np.zeros([DoF,DoF]) #Inicialización de la matriz de rigidez global de la estructura.\n",
    "\n",
    "# https://realpython.com/python-enumerate/\n",
    "# When you use enumerate(), the function gives you back two loop variables:\n",
    "#   1. The count of the current iteration (i)\n",
    "#   2. The value of the item at the current iteration (elem)\n",
    "\n",
    "for e, elem in enumerate(elementos): \n",
    "\n",
    "    ni = elem[0] # índice de nodo inicial\n",
    "    nj = elem[1] # Índice de nodo final\n",
    "\n",
    "    # Corrección de índice. Los arreglos en python inician en 0\n",
    "    ni = ni - 1\n",
    "    nj = nj - 1\n",
    "\n",
    "    # Extracción de coordenadas\n",
    "    xi = nodos[ni][0]\n",
    "    yi = nodos[ni][1]\n",
    "\n",
    "    xj = nodos[nj][0]\n",
    "    yj = nodos[nj][1]\n",
    "\n",
    "    inicialI = 2*ni\n",
    "    finalI = 2*ni + 1\n",
    "\n",
    "    inicialJ = 2*nj\n",
    "    finalJ = 2*nj + 1\n",
    "\n",
    "    K[inicialI:finalI+1,inicialI:finalI+1] = K[inicialI:finalI+1,inicialI:finalI+1] +  K_elem[e][0:2,0:2]\n",
    "    K[inicialJ:finalJ+1,inicialJ:finalJ+1] += K_elem[e][2:4,2:4]\n",
    "\n",
    "    K[inicialI:finalI+1,inicialJ:finalJ+1] += K_elem[e][0:2,2:4]\n",
    "    K[inicialJ:finalJ+1,inicialI:finalI+1] += K_elem[e][2:4,0:2]\n",
    "\n",
    "print(K)"
   ]
  },
  {
   "cell_type": "code",
   "execution_count": 20,
   "metadata": {},
   "outputs": [
    {
     "data": {
      "image/png": "[encoded data removed]",
      "text/plain": [
       "<Figure size 432x288 with 1 Axes>"
      ]
     },
     "metadata": {
      "needs_background": "light"
     },
     "output_type": "display_data"
    }
   ],
   "source": [
    "K[0:2,0:2] = K_elem[0][0:2,0:2]\n",
    "K[3:5,3:5] = K_elem[0][0:2,0:2]\n",
    "\n",
    "Knn = [[K[i][j] for j in free_index] for i in free_index]\n",
    "Kaa = [[K[i][j] for j in rest_index] for i in rest_index]\n",
    "Kan = [[K[i][j] for j in rest_index] for i in free_index]\n",
    "\n",
    "Knn = np.matrix(Knn)\n",
    "Kaa = np.matrix(Kaa)\n",
    "Kan = np.matrix(Kan)\n",
    "Kna = Kan.transpose()\n",
    "\n",
    "import matplotlib.pyplot as plt\n",
    "fig, ax = plt.subplots()\n",
    "plt.spy(K, marker='o')\n",
    "plt.show()\n"
   ]
  }
 ],
 "metadata": {
  "kernelspec": {
   "display_name": "Python 3",
   "language": "python",
   "name": "python3"
  },
  "language_info": {
   "codemirror_mode": {
    "name": "ipython",
    "version": 2
   },
   "file_extension": ".py",
   "mimetype": "text/x-python",
   "name": "python",
   "nbconvert_exporter": "python",
   "pygments_lexer": "ipython2",
   "version": "2.7.17"
  }
 },
 "nbformat": 4,
 "nbformat_minor": 2
}
